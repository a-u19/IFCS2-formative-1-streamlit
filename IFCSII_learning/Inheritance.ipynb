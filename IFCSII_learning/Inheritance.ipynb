{
 "cells": [
  {
   "cellId": "f749b41da3c34caebe0782289b278a00",
   "cell_type": "markdown",
   "metadata": {
    "cell_id": "f749b41da3c34caebe0782289b278a00",
    "deepnote_cell_type": "markdown"
   },
   "source": "# Inheritance\n\nInheritance is a fundamental principle in object-oriented programming that promotes code reusability and the establishment of relationships between classes. It allows a class, called the subclass, to inherit attributes and methods from another class, called the superclass or base class. Through inheritance, the subclass acquires the fields and behaviors (methods) of the superclass",
   "block_group": "47c65ec1c7d340128dddbe03ba942860"
  },
  {
   "cellId": "6459559262304cfbb9cd47e7ea1cc905",
   "cell_type": "markdown",
   "metadata": {
    "cell_id": "6459559262304cfbb9cd47e7ea1cc905",
    "deepnote_cell_type": "markdown"
   },
   "source": "## A base class (superclass)\n\nA base class, often called a parent or superclass, is a class in object-oriented programming that other classes, known as subclasses or child classes, can inherit from. It holds attributes and methods that are common to all its subclasses, allowing for a streamlined and efficient design by enabling code reuse and organization.",
   "block_group": "e40b21b5b8e1412d8e3cf7333db4b967"
  },
  {
   "cellId": "530903d9562c420c8e740e291eb945b7",
   "cell_type": "code",
   "metadata": {
    "source_hash": null,
    "execution_start": 1695977710553,
    "execution_millis": 59,
    "deepnote_to_be_reexecuted": false,
    "cell_id": "530903d9562c420c8e740e291eb945b7",
    "deepnote_cell_type": "code"
   },
   "source": "class BankAccount:\n    def __init__(self, owner, balance=0):\n        self.owner = owner\n        self.balance = balance\n        \n    def deposit(self, amount):\n        self.balance += amount\n        return self.balance\n    \n    def withdraw(self, amount):\n        if amount <= self.balance:\n            self.balance -= amount\n        else:\n            return \"Insufficient funds\"\n        return self.balance\n    \n    def get_balance(self):\n        return self.balance\n    \n    def display(self):\n        return f\"{self.owner} has a balance of ${self.balance}.\"\n\n# Creating an instance of BankAccount\nbank_account = BankAccount(\"Alice\", 1000)\n\n# Displaying information about bank_account\nbank_account.display()\n",
   "block_group": "0766bdf727db45648bddb1cf7d9b51c7",
   "execution_count": null,
   "outputs": [
    {
     "output_type": "execute_result",
     "execution_count": 1,
     "data": {
      "text/plain": "'Alice has a balance of $1000.'"
     },
     "metadata": {}
    }
   ],
   "outputs_reference": "dbtable:cell_outputs/ba9379d8-3009-45e7-8c81-59cf92ac2c2e",
   "content_dependencies": null
  },
  {
   "cellId": "1c2a62f0e44f41289d34af5c721b122f",
   "cell_type": "markdown",
   "metadata": {
    "cell_id": "1c2a62f0e44f41289d34af5c721b122f",
    "deepnote_cell_type": "markdown"
   },
   "source": "## A child class (subclass)\n\nA child class, also known as a subclass or derived class, is a class that inherits properties and behaviors (methods) from a parent or base class. The child class can have additional properties and behaviors or override the properties and behaviors of its parent class.\n\nIn the provided Python code, SavingAccount is a child class of BankAccount and inherits all its properties and methods without having any of its own. Instances of SavingAccount can access the `.deposit()` and `.display()` methods from BankAccount, demonstrating the concept of inheritance.",
   "block_group": "3868567a6793476aa51250124c7b41cf"
  },
  {
   "cellId": "38be35dfa7724f259af0b7cee45ea7eb",
   "cell_type": "code",
   "metadata": {
    "source_hash": null,
    "execution_start": 1695977936718,
    "execution_millis": 70,
    "deepnote_to_be_reexecuted": false,
    "cell_id": "38be35dfa7724f259af0b7cee45ea7eb",
    "deepnote_cell_type": "code"
   },
   "source": "# Defining a child class with no additional methods or attributes\nclass SavingAccount(BankAccount): # this is how we show inheritance\n    pass\n\n# Creating an instance of SavingAccount\nsaving_account = SavingAccount(\"Bob\", 2000)\n\n# Displaying information about saving_account using the inherited display method\nprint(saving_account.display())\n\n# Using the inherited deposit method to deposit an amount into saving_account\nsaving_account.deposit(600)\nprint(saving_account.display())",
   "block_group": "2d86e10fa08d4376835084526d1824a4",
   "execution_count": null,
   "outputs": [
    {
     "name": "stdout",
     "text": "Bob has a balance of $2000.\nBob has a balance of $2600.\n",
     "output_type": "stream"
    }
   ],
   "outputs_reference": "dbtable:cell_outputs/ed99c8bb-4880-4909-980d-8f769ca1fe8b",
   "content_dependencies": null
  },
  {
   "cellId": "4f9c2cbec2e6459a98130a6ac02528a6",
   "cell_type": "markdown",
   "metadata": {
    "cell_id": "4f9c2cbec2e6459a98130a6ac02528a6",
    "deepnote_cell_type": "markdown"
   },
   "source": "### 🏋️  Practice Activity 1\n\nCreate a `LibraryItem()` parent class and two child classes: `Book(LibraryItem)` and `DVD(LibraryItem)`.\n\nRequirements\n\nLibraryItem Class:\n\n- It should have two attributes: title and location.\n- It should have a method display_info() that returns a string with the title and location of the item.\n\nChild classes should have no propertis or methods. Instantiate children and call parent properties/methods.",
   "block_group": "2d7b88d8d64249a9ae876417e86f2f7c"
  },
  {
   "metadata": {},
   "cell_type": "code",
   "outputs": [],
   "execution_count": null,
   "source": [
    "class LibraryItem:\n",
    "    def __init__(self, title:str, location:str):\n",
    "        self.title = title\n",
    "        self.location = location\n",
    "\n",
    "    def display_info(self):\n",
    "        return self.title, self.location\n",
    "\n",
    "class Book(LibraryItem):\n",
    "    def __init__(self, title: str, location: str):\n",
    "        super().__init__(title, location)\n",
    "\n",
    "class DVD(LibraryItem):\n",
    "    def __init__(self, title: str, location: str):\n",
    "        super().__init__(title, location)"
   ]
  },
  {
   "cellId": "42451fd9050743ef8046daaf374d5cc8",
   "cell_type": "markdown",
   "metadata": {
    "cell_id": "42451fd9050743ef8046daaf374d5cc8",
    "deepnote_cell_type": "markdown"
   },
   "source": "## A child class with own properties and methods\n\nA child class with its own properties and methods is a class that inherits from a parent (or base) class and has additional properties (attributes) and methods (functions) that are not present in the parent class. ",
   "block_group": "e45d42957c3945b9a307060074f478a9"
  },
  {
   "cellId": "79adba39200c43c3827d9a46a3e3f49d",
   "cell_type": "code",
   "metadata": {
    "source_hash": null,
    "execution_start": 1695978613169,
    "execution_millis": 19,
    "deepnote_to_be_reexecuted": false,
    "cell_id": "79adba39200c43c3827d9a46a3e3f49d",
    "deepnote_cell_type": "code"
   },
   "source": "class Vehicle:\n    def __init__(self, speed, color):\n        self.speed = speed\n        self.color = color\n    \n    def start_engine(self):\n        return \"The engine is started\"\n    \nclass Car(Vehicle):\n    def __init__(self, speed, color, number_of_doors):\n        # Explicitly calling the constructor of the parent class\n        Vehicle.__init__(self, speed, color) # this is the tricky bit to get parent's attributes\n        self.number_of_doors = number_of_doors\n    \n    def lock_doors(self):\n        return \"The doors are locked\"\n\n# Creating an instance of Car\ncar_instance = Car(100, 'Red', 4)\n\n# Accessing properties and methods from both the child and parent class\nprint(\"Speed:\", car_instance.speed)  # From parent class\nprint(\"Color:\", car_instance.color)  # From parent class\nprint(\"Number of Doors:\", car_instance.number_of_doors)  # From child class\nprint(car_instance.start_engine())  # From parent class\nprint(car_instance.lock_doors())  # From child class\n",
   "block_group": "6fdf5fa7593c464780669e85fc60e7da",
   "execution_count": null,
   "outputs": [
    {
     "name": "stdout",
     "text": "Speed: 100\nColor: Red\nNumber of Doors: 4\nThe engine is started\nThe doors are locked\n",
     "output_type": "stream"
    }
   ],
   "outputs_reference": "dbtable:cell_outputs/5fb26a2e-143a-48e4-aa56-e253c381f5fe",
   "content_dependencies": null
  },
  {
   "cellId": "a496ab27ae804e5a8d999a126edcfeca",
   "cell_type": "markdown",
   "metadata": {
    "cell_id": "a496ab27ae804e5a8d999a126edcfeca",
    "deepnote_cell_type": "markdown"
   },
   "source": "### 🏋️  Practice Activity 2\n\nDevelop a class hierarchy that represents electronic devices, focusing on laptops and smartphones. The base class is ElectronicDevice, and it has two child classes: Laptop and Smartphone.\n\nRequirements:\n\nThe `ElectronicDevice` class should have the following properties:\n\n- `brand` (string): The brand of the electronic device.\n- `power_status` (string): The power status of the electronic device, either \"On\" or \"Off\".\n\nAnd the following method:\n\n- `toggle_power()`: This method should change the power status from \"On\" to \"Off\" and vice versa, and return the new power status.\n\nThe `Laptop` class should inherit from the `ElectronicDevice` class and have an additional property:\n\n- `screen_size` (integer): The screen size of the laptop in inches.\n\nThe `Smartphone` class should inherit from the `ElectronicDevice` class and have an additional property:\n\n- `camera_megapixels` (integer): The camera resolution of the smartphone in megapixels.\n\nInstantiate children, print different attributes and call methods.",
   "block_group": "66decd1d7d7141e0b9ef2b91c05c5081"
  },
  {
   "metadata": {
    "ExecuteTime": {
     "end_time": "2025-06-30T07:17:20.132545Z",
     "start_time": "2025-06-30T07:17:20.126631Z"
    }
   },
   "cell_type": "code",
   "source": [
    "class ElectronicDevice:\n",
    "    def __init__(self, brand:str, power_status:str):\n",
    "        self.brand = brand\n",
    "        self.power_status = power_status\n",
    "\n",
    "    def toggle_power(self):\n",
    "        self.power_status = \"On\" if self.power_status == \"Off\" else \"Off\"\n",
    "\n",
    "class Laptop(ElectronicDevice):\n",
    "    def __init__(self, brand: str, power_status: str, screen_size: int):\n",
    "        super().__init__(brand, power_status)\n",
    "        self.screen_size = screen_size\n",
    "\n",
    "class Smartphone(ElectronicDevice):\n",
    "    def __init__(self, brand:str, power_status:str, camera_megapixels:int):\n",
    "        super().__init__(brand, power_status)\n",
    "        self.camera_megapixels = camera_megapixels\n",
    "\n",
    "phone_1 = Smartphone(\"Samsung\", \"Off\", 48)\n",
    "print(phone_1.power_status)\n",
    "phone_1.toggle_power()\n",
    "print(phone_1.power_status)\n",
    "phone_1.toggle_power()\n",
    "print(phone_1.power_status)"
   ],
   "outputs": [
    {
     "name": "stdout",
     "output_type": "stream",
     "text": [
      "Off\n",
      "On\n",
      "Off\n"
     ]
    }
   ],
   "execution_count": 12
  },
  {
   "cellId": "fcce6fb5b53540fdb40d67bba882cca7",
   "cell_type": "markdown",
   "metadata": {
    "cell_id": "fcce6fb5b53540fdb40d67bba882cca7",
    "deepnote_cell_type": "markdown"
   },
   "source": "## `super()` !\n\nThe `super()` function in Python is used in the context of class inheritance. It returns a temporary object of the superclass, allowing you to call its methods. This is particularly useful when you need to call a method from the parent class in a subclass.\n\nWhen you have a method in a child class that overrides a method in its parent class, you can use super() to call the method in the parent class. This is common in the __init__ method when initializing a new object, but it can be used with any overridden method.",
   "block_group": "cd05e70d25964a8aa29a5623a5dae27c"
  },
  {
   "cellId": "4bc4be42ade340069ecf1d2552fb948a",
   "cell_type": "code",
   "metadata": {
    "source_hash": null,
    "execution_start": 1695980251777,
    "execution_millis": 19,
    "deepnote_to_be_reexecuted": false,
    "cell_id": "4bc4be42ade340069ecf1d2552fb948a",
    "deepnote_cell_type": "code"
   },
   "source": "class BankAccount:\n    def __init__(self, owner, balance=0):\n        self.owner = owner\n        self.balance = balance\n    \n    def deposit(self, amount):\n        self.balance += amount\n        return f\"{self.owner} has deposited ${amount}. New balance is ${self.balance}.\"\n    \n    def display(self):\n        return f\"{self.owner} has a balance of ${self.balance}.\"\n\nclass SavingsAccount(BankAccount):\n    def __init__(self, owner, balance=0, interest_rate=0.05):\n        super().__init__(owner, balance)  # Using super() to call the __init__ method of the parent class\n        self.interest_rate = interest_rate\n    \n    def deposit(self, amount):\n        interest = amount * self.interest_rate\n        total_amount = amount + interest\n        super().deposit(total_amount)  # Using super() to call the deposit method of the parent class and deposit the total amount including interest.\n        return f\"{self.owner} has deposited ${amount} and earned ${interest} as interest. Total amount deposited is ${total_amount}. New balance is ${self.balance}.\"\n\n# Creating an instance of SavingsAccount\nsavings_account = SavingsAccount(\"Alice\", 1000)\n\n# Displaying information about savings_account using the distinct deposit method of the child class\nprint(savings_account.deposit(200))  # Alice has deposited $200 and earned $10.0 as interest. Total amount deposited is $210.0. New balance is $1210.0.\n",
   "block_group": "04a34685e38d4bd99cfce519fed07127",
   "execution_count": null,
   "outputs": [
    {
     "name": "stdout",
     "text": "Alice has deposited $200 and earned $10.0 as interest. Total amount deposited is $210.0. New balance is $1210.0.\n",
     "output_type": "stream"
    }
   ],
   "outputs_reference": "dbtable:cell_outputs/08eece96-20b9-4a45-bf3e-abda66ebf389",
   "content_dependencies": null
  }
 ],
 "metadata": {
  "deepnote_persisted_session": {
   "createdAt": "2023-09-29T10:32:15.100Z"
  },
  "deepnote_notebook_id": "b4a3e833fd5546c3a4899114c6792f39"
 },
 "nbformat": 4,
 "nbformat_minor": 0,
 "version": 0
}
